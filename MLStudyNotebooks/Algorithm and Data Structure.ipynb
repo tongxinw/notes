{
 "cells": [
  {
   "cell_type": "markdown",
   "metadata": {},
   "source": [
    "# Algorithms and Data Structures #"
   ]
  },
  {
   "cell_type": "markdown",
   "metadata": {},
   "source": [
    "[Toward Data science article 1](https://towardsdatascience.com/a-data-scientists-guide-to-data-structures-algorithms-1176395015a0)\n",
    "\n",
    "[Toward Data science article 2](https://towardsdatascience.com/a-data-scientists-guide-to-data-structures-algorithms-part-2-6bc27066f3fe)\n",
    "\n",
    "![runtime](runtime.png)"
   ]
  },
  {
   "cell_type": "markdown",
   "metadata": {},
   "source": [
    "## I. Search ##"
   ]
  },
  {
   "cell_type": "markdown",
   "metadata": {},
   "source": [
    "### 1. Search ###\n",
    "- $O(n)$"
   ]
  },
  {
   "cell_type": "markdown",
   "metadata": {},
   "source": [
    "### 2. Binary search\n",
    "- $Big O = O(\\log{n})$ "
   ]
  },
  {
   "cell_type": "markdown",
   "metadata": {},
   "source": [
    "## II. Sort"
   ]
  },
  {
   "cell_type": "markdown",
   "metadata": {},
   "source": [
    "### 1.Selection Sort\n",
    "- go through the list to find the laregst/smallert item, and add to a second list\n",
    "- go through the original list again to find the next largest/least, add\n",
    "- repeat until finish the whole list\n",
    "- $Big \\mathcal{O} = O(n^2)$ as for each element, need to run through the whole list, thus $n \\times n$"
   ]
  },
  {
   "cell_type": "markdown",
   "metadata": {},
   "source": [
    "### 2. Quick Sort\n",
    "- get a pivot from current list (normally random selected), and partition elements smaller than it to the left, elements larger than it to the right\n",
    "- for each of the half list, treat it as anew list and rearrange using the same way\n",
    "- Quicksort is unique because its speed is dependent on the pivot selection. At worst, it can take O(n²) time, which is as slow as selection sort. However, if the pivot is always some random element in the list, quicksort runs in O(n log n) time on average.\n",
    "- $Big \\mathcal{O} = O(n\\log{n})$\n",
    "\n",
    "![quick sort using the last index as pivot](quicksort.png)"
   ]
  },
  {
   "cell_type": "markdown",
   "metadata": {},
   "source": [
    "### 3. Merge Sort\n",
    "- break down the list into individual elements, and sort every pair\n",
    "- sort two pairs together, and get the pairs grow until the whole lists are sorted\n",
    "- Mergesort runs on $O(n \\log n)$ time because the entire list is halved ($O(\\log n)$) and this is done for n items.\n",
    "\n",
    "![mergesort](mergesort.gif)"
   ]
  },
  {
   "cell_type": "markdown",
   "metadata": {},
   "source": [
    "## III. Abstract Data Structures (ADT)##"
   ]
  },
  {
   "cell_type": "markdown",
   "metadata": {},
   "source": [
    "### 1. Stack ###\n",
    "- first in, last out\n",
    "- push/pop"
   ]
  },
  {
   "cell_type": "markdown",
   "metadata": {},
   "source": [
    "### 2. Queue ###\n",
    "- first in, first out (like waiting in the line of being seated at restaurants)\n",
    "- push/pop"
   ]
  },
  {
   "cell_type": "markdown",
   "metadata": {},
   "source": [
    "### 3. Graph (network)\n",
    "- node and edges\n",
    "- directed graph(edges with arrows => one-way direction of the connection)\n",
    "- undirected graph(edges without arrows, thus two-way connections)\n",
    "- could have multiple egdes between nodes"
   ]
  },
  {
   "cell_type": "markdown",
   "metadata": {},
   "source": [
    "### 4. Tree (hierarchy)\n",
    "- special type of graph, with \"hierarchical\" structure\n",
    "- with only one root, which is also the origin\n",
    "- only one path allowed between two nodes\n",
    "\n"
   ]
  },
  {
   "cell_type": "markdown",
   "metadata": {},
   "source": [
    "## IIII. Concrete Data Structures (CDT) ##"
   ]
  },
  {
   "cell_type": "markdown",
   "metadata": {},
   "source": [
    "### Array###\n",
    "An array is comprised of a linear collection of items (known as elements), stored contiguously in memory. Any given element can be accessed using a numerical index which points to the element’s location in the array. In Python native, this is implemented with the list type.\n",
    "\n",
    "### Hash Tables###\n",
    "In a hash table, unique keys are mapped to values. In Python native, a dictionary is the implementation of a hash table."
   ]
  },
  {
   "cell_type": "markdown",
   "metadata": {},
   "source": [
    "![](common_data_str.png)"
   ]
  },
  {
   "cell_type": "markdown",
   "metadata": {},
   "source": [
    "## note: learn BFS/DFS/Binary search tree##"
   ]
  },
  {
   "cell_type": "code",
   "execution_count": null,
   "metadata": {},
   "outputs": [],
   "source": []
  }
 ],
 "metadata": {
  "kernelspec": {
   "display_name": "Python 3",
   "language": "python",
   "name": "python3"
  },
  "language_info": {
   "codemirror_mode": {
    "name": "ipython",
    "version": 3
   },
   "file_extension": ".py",
   "mimetype": "text/x-python",
   "name": "python",
   "nbconvert_exporter": "python",
   "pygments_lexer": "ipython3",
   "version": "3.7.3"
  }
 },
 "nbformat": 4,
 "nbformat_minor": 4
}
